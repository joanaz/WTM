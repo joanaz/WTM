{
 "cells": [
  {
   "cell_type": "markdown",
   "metadata": {},
   "source": [
    "Here's the modified code you can copy/paste into the previous notebook."
   ]
  },
  {
   "cell_type": "code",
   "execution_count": null,
   "metadata": {
    "collapsed": false
   },
   "outputs": [],
   "source": [
    "HIDDEN2_UNITS = 64\n",
    "\n",
    "weights1 = weight_variable(NUM_PIXELS, HIDDEN1_UNITS, \"weights1\")\n",
    "biases1 = bias_variable(HIDDEN1_UNITS, \"biases1\")\n",
    "hidden1 = tf.nn.relu(tf.matmul(x, weights1) + biases1, name=\"hidden1\")\n",
    "\n",
    "weights2 = weight_variable(HIDDEN1_UNITS, HIDDEN2_UNITS, \"weights2\")\n",
    "biases2 = bias_variable(HIDDEN2_UNITS, \"biases2\")\n",
    "hidden2 = tf.nn.relu(tf.matmul(hidden1, weights2) + biases2, name=\"hidden2\")\n",
    "\n",
    "weights3 = weight_variable(HIDDEN2_UNITS, NUM_CLASSES, \"weights3\")\n",
    "biases3 = bias_variable(NUM_CLASSES, \"biases3\")\n",
    "\n",
    "y = tf.matmul(hidden2, weights3) + biases3"
   ]
  }
 ],
 "metadata": {
  "kernelspec": {
   "display_name": "Python 2",
   "language": "python",
   "name": "python2"
  },
  "language_info": {
   "codemirror_mode": {
    "name": "ipython",
    "version": 2
   },
   "file_extension": ".py",
   "mimetype": "text/x-python",
   "name": "python",
   "nbconvert_exporter": "python",
   "pygments_lexer": "ipython2",
   "version": "2.7.12"
  }
 },
 "nbformat": 4,
 "nbformat_minor": 0
}
